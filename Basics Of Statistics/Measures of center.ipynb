{
 "cells": [
  {
   "cell_type": "markdown",
   "metadata": {},
   "source": [
    "### Measures of center\n",
    "\n",
    "A measure of center is a value at the center or middle of data set."
   ]
  },
  {
   "cell_type": "markdown",
   "metadata": {},
   "source": [
    "#### 1. Mean\n",
    "\n",
    "* The Mean is obtaining by dividing the sum of all values by the number of values in the data sets.\n",
    "\n",
    "* Mean = (Sum of all values)/(Number of values)\n",
    "\n",
    "EXample :\n",
    "\n",
    "A=168 B=182 C=170 D=155 E=159\n",
    "\n",
    "Mean = (168+182+170+155+159)/5 = 164.8"
   ]
  },
  {
   "cell_type": "markdown",
   "metadata": {},
   "source": [
    "#### 2. Median\n",
    "\n",
    "* The Median is the value of the middle term in data set that has been ranked in increasing order.\n",
    "* Rules :\n",
    "\n",
    "    1. Ranked the dataset in inceasing order\n",
    "    2. Find the middle term. The value of this term is median.\n",
    "    \n",
    "EXample :\n",
    "\n",
    "A=168 B=182 C=170 D=155 E=159\n",
    "\n",
    "Rule 1 :  155, 159, 168, 179, 182\n",
    "Rule 2 :  168"
   ]
  },
  {
   "cell_type": "markdown",
   "metadata": {},
   "source": [
    "#### 3. Mode\n",
    "\n",
    "* The mode of data set is the value that occurs with greatest frequency.\n",
    "\n",
    "EXample :\n",
    "\n",
    "A=168 B=182 C=168 D=155 E=159\n",
    "\n",
    "168 appears two times while rest of the values appear only once .\n",
    "\n",
    "Therefore 168 is the mode height."
   ]
  },
  {
   "cell_type": "markdown",
   "metadata": {},
   "source": [
    "#### 4. Midrange\n",
    "\n",
    "* The midrange is the value midway between the maximum and minimum values in the original data set.\n",
    "\n",
    "Example :\n",
    "\n",
    "A=168 B=182 C=170 D=155 E=159\n",
    "\n",
    "Midrange = (155+182)/2 = 168.5"
   ]
  },
  {
   "cell_type": "markdown",
   "metadata": {},
   "source": [
    "### Measures of dispersion\n",
    "\n",
    "The measures that help us learn about the speed of a data set is called the measures of dispersion.\n"
   ]
  },
  {
   "cell_type": "markdown",
   "metadata": {},
   "source": [
    "#### 1. Range\n",
    "\n",
    "* Range is the difference between the largest and the smallest values in the data set.\n",
    "\n",
    "* Range = Largest value - Smallest value\n",
    "\n",
    "EXample :\n",
    "\n",
    "A=168 B=182 C=170 D=155 E=159\n",
    "\n",
    "Range = 182-155 = 27"
   ]
  },
  {
   "cell_type": "markdown",
   "metadata": {},
   "source": [
    "#### 2. Variance and standard deviation"
   ]
  },
  {
   "cell_type": "markdown",
   "metadata": {},
   "source": [
    "https://youtu.be/qqOyy_NjflU"
   ]
  },
  {
   "cell_type": "markdown",
   "metadata": {},
   "source": [
    "### Frequency distribution \n",
    "\n",
    "* A frequency distribution for qualitative data lists all categories and the number of elements that belong to each of the \n",
    "  categories.\n",
    "\n",
    "Example :-\n",
    "\n",
    "Computer science = 100 Mechanical = 80 Electrical = 130 Biotechnology= 60 Maths = 50\n",
    "\n",
    "Frequency of category = (Frequency of that category)/(Sum of all Frequencies) \n",
    "\n",
    "Frequency of category = 60/420 = 14.2%"
   ]
  },
  {
   "cell_type": "markdown",
   "metadata": {},
   "source": [
    "### Histogram \n",
    "\n",
    "* Histogram is graph consisting of bars of equal width drawn adjacent to each other. \n",
    "* The horizontal scale represents classes of quantitative data values and verticle scale represents frequencies."
   ]
  }
 ],
 "metadata": {
  "kernelspec": {
   "display_name": "Python 3",
   "language": "python",
   "name": "python3"
  },
  "language_info": {
   "codemirror_mode": {
    "name": "ipython",
    "version": 3
   },
   "file_extension": ".py",
   "mimetype": "text/x-python",
   "name": "python",
   "nbconvert_exporter": "python",
   "pygments_lexer": "ipython3",
   "version": "3.6.8"
  }
 },
 "nbformat": 4,
 "nbformat_minor": 4
}
