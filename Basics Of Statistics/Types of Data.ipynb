{
 "cells": [
  {
   "cell_type": "markdown",
   "metadata": {},
   "source": [
    "### Types of Data\n",
    "\n",
    "* When we see the data we should able to quickly identify its type and then figure out what type of analysis is to be done on it.\n",
    "* Types of Data :\n",
    "\n",
    "    1. Qualitative or Categorical data \n",
    "\n",
    "    2. Quantitative data\n",
    "        "
   ]
  },
  {
   "cell_type": "markdown",
   "metadata": {},
   "source": [
    "### Qualitative or categorical Data\n",
    "\n",
    "* A variable that can not assume numerical value but can be classified into two or more non-numeric categories is called\n",
    "  a qualitative or categorical variable.\n",
    "  \n",
    "* The data collected on such a variable is called Qualitative data.\n",
    "  \n",
    "#### There are two types of Qualitative variables :\n",
    "\n",
    "1. Nominal Variables :=\n",
    "    The values are not ordered. Example : Nationality, Gender etc.\n",
    "\n",
    "\n",
    "2. Ordinal Variables :=\n",
    "    The values are ordered or ranked. Example : Satisfaction Score(ot satisfied, Satisfied, Delighted), Spiciess of food(Less    Spicy, mild spicy, Hot)"
   ]
  },
  {
   "cell_type": "markdown",
   "metadata": {},
   "source": [
    "### Quantative Data\n",
    "\n",
    "* A variable that can be measure numerically is called quantitative variable.\n",
    "* The data collected on a quantitative variable are called quantitative data.\n",
    "\n",
    "#### There are two types of Quantitative variables:\n",
    "\n",
    "1. Discrete Variales :\n",
    "\n",
    "    A variable whose values are countable is called a discrete variable. In other words, a discrete variable can assume \n",
    "    only certain values.\n",
    "    EXample : Number of heads in 10 tosses.\n",
    "    \n",
    "    \n",
    "2. Continues Variable :\n",
    "\n",
    "    A variable that can assume any numerical value over a certain interval or intervals is called a continuous variable.\n",
    "    EXample : Height of person\n"
   ]
  }
 ],
 "metadata": {
  "kernelspec": {
   "display_name": "Python 3",
   "language": "python",
   "name": "python3"
  },
  "language_info": {
   "codemirror_mode": {
    "name": "ipython",
    "version": 3
   },
   "file_extension": ".py",
   "mimetype": "text/x-python",
   "name": "python",
   "nbconvert_exporter": "python",
   "pygments_lexer": "ipython3",
   "version": "3.6.8"
  }
 },
 "nbformat": 4,
 "nbformat_minor": 4
}
