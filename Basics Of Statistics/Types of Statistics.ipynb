{
 "cells": [
  {
   "cell_type": "markdown",
   "metadata": {},
   "source": [
    "### Types of statistics \n",
    "\n",
    "#### There are two type of data -:\n",
    "\n",
    "1. Descriptive Statistics\n",
    "2. Inferential statistics"
   ]
  },
  {
   "cell_type": "markdown",
   "metadata": {},
   "source": [
    "### 1.Descriptive Statistics\n",
    "\n",
    "* Descriptive statistics consist of methods for organizing, displaying and describing data by using tables, graphs\n",
    "  and summary measures.\n",
    "  \n",
    "#### Measures of central tenddency\n",
    "\n",
    "1. Mean\n",
    "2. Median\n",
    "3. Mode\n",
    "\n",
    "#### Measures of dispersion\n",
    "\n",
    "1. Range\n",
    "2. Standard Deviation\n",
    "\n",
    "#### Frequency Distributions \n",
    "\n",
    "#### Histograms"
   ]
  },
  {
   "cell_type": "markdown",
   "metadata": {},
   "source": [
    "### 2.Inferential Statistics\n",
    "* Inferential statistics consists of methods that use sample results to help make decision or predictions.\n",
    "\n",
    "#### Hypothesis testing\n",
    "\n",
    "#### Anova\n",
    "\n",
    "#### Chi-Square Tests\n",
    "\n",
    "#### Regression"
   ]
  }
 ],
 "metadata": {
  "kernelspec": {
   "display_name": "Python 3",
   "language": "python",
   "name": "python3"
  },
  "language_info": {
   "codemirror_mode": {
    "name": "ipython",
    "version": 3
   },
   "file_extension": ".py",
   "mimetype": "text/x-python",
   "name": "python",
   "nbconvert_exporter": "python",
   "pygments_lexer": "ipython3",
   "version": "3.6.8"
  }
 },
 "nbformat": 4,
 "nbformat_minor": 4
}
